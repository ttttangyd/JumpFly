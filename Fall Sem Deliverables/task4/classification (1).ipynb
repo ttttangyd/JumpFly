{
 "cells": [
  {
   "cell_type": "code",
   "execution_count": 1,
   "id": "c5a9a5f9-0864-457d-997e-b07df35992c3",
   "metadata": {},
   "outputs": [],
   "source": [
    "import numpy as np\n",
    "import pandas as pd"
   ]
  },
  {
   "cell_type": "code",
   "execution_count": 2,
   "id": "ed7c279f-4ca4-4641-ae69-bcb015be9426",
   "metadata": {},
   "outputs": [],
   "source": [
    "file_path_1 = r'C:\\Users\\KAIM\\Downloads\\Dataset_1.xlsx'"
   ]
  },
  {
   "cell_type": "code",
   "execution_count": 3,
   "id": "dac8d931-f888-4832-800f-5f31f5b2c89e",
   "metadata": {},
   "outputs": [
    {
     "name": "stdout",
     "output_type": "stream",
     "text": [
      "   timestamp       uid  campaign  conversion  conversion_timestamp  \\\n",
      "0          0  20073966  22589171           0                    -1   \n",
      "1          2  24607497    884761           0                    -1   \n",
      "2          2  28474333  18975823           0                    -1   \n",
      "3          3   7306395  29427842           1               1449193   \n",
      "4          3  25357769  13365547           0                    -1   \n",
      "\n",
      "   conversion_id  attribution  click  click_pos  click_nb  ...  \\\n",
      "0             -1            0      0         -1        -1  ...   \n",
      "1             -1            0      0         -1        -1  ...   \n",
      "2             -1            0      0         -1        -1  ...   \n",
      "3        3063962            0      1          0         7  ...   \n",
      "4             -1            0      0         -1        -1  ...   \n",
      "\n",
      "   time_since_last_click      cat1      cat2      cat3      cat4      cat5  \\\n",
      "0                     -1   5824233   9312274   3490278  29196072  11409686   \n",
      "1                 423858  30763035   9312274  14584482  29196072  11409686   \n",
      "2                   8879    138937   9312274  10769841  29196072   5824237   \n",
      "3                     -1  28928366  26597095  12435261  23549932   5824237   \n",
      "4                     -1    138937  26597094  31616034  29196072  11409684   \n",
      "\n",
      "       cat6      cat7      cat8      cat9  \n",
      "0   1973606  25162884  29196072  29196072  \n",
      "1   1973606  22644417   9312274  21091111  \n",
      "2    138937   1795451  29196072  15351056  \n",
      "3   1973606   9180723  29841067  29196072  \n",
      "4  26597096   4480345  29196072  29196072  \n",
      "\n",
      "[5 rows x 22 columns]\n"
     ]
    }
   ],
   "source": [
    "dataset = pd.read_excel(file_path_1)\n",
    "print(dataset.head())"
   ]
  },
  {
   "cell_type": "code",
   "execution_count": 4,
   "id": "5a897637-d96c-4152-ab27-c51d2c8d6513",
   "metadata": {},
   "outputs": [],
   "source": [
    "dataset = dataset.sample(frac=0.1, random_state=1)  #10%"
   ]
  },
  {
   "cell_type": "code",
   "execution_count": 5,
   "id": "4e00109d-60e1-4b12-8ed2-282c65cb6b91",
   "metadata": {},
   "outputs": [
    {
     "name": "stdout",
     "output_type": "stream",
     "text": [
      "         timestamp       uid  conversion  conversion_timestamp  conversion_id  \\\n",
      "1045953     159092   6869023           0                    -1             -1   \n",
      "358409       59384  23224919           0                    -1             -1   \n",
      "875012      140734  18403799           0                    -1             -1   \n",
      "555046       81046  31314136           0                    -1             -1   \n",
      "272972       50195   4466956           0                    -1             -1   \n",
      "\n",
      "         attribution  click_pos  click_nb      cost       cpo  ...  \\\n",
      "1045953            0         -1        -1  0.000027  0.283853  ...   \n",
      "358409             0         -1        -1  0.000269  0.285435  ...   \n",
      "875012             0         -1        -1  0.000010  0.340921  ...   \n",
      "555046             0         -1        -1  0.000031  0.184848  ...   \n",
      "272972             0         -1        -1  0.000016  0.221639  ...   \n",
      "\n",
      "         campaign_32321347  campaign_32323516  campaign_32368241  \\\n",
      "1045953              False              False              False   \n",
      "358409               False              False              False   \n",
      "875012               False              False              False   \n",
      "555046               False              False              False   \n",
      "272972               False              False              False   \n",
      "\n",
      "         campaign_32368244  campaign_32385772  campaign_32398755  \\\n",
      "1045953              False              False              False   \n",
      "358409               False              False              False   \n",
      "875012               False              False              False   \n",
      "555046               False              False              False   \n",
      "272972               False              False              False   \n",
      "\n",
      "         campaign_32398758  campaign_32405311  campaign_32452108  \\\n",
      "1045953              False              False              False   \n",
      "358409               False              False              False   \n",
      "875012               False              False              False   \n",
      "555046               False              False              False   \n",
      "272972               False              False              False   \n",
      "\n",
      "         campaign_32452111  \n",
      "1045953              False  \n",
      "358409               False  \n",
      "875012               False  \n",
      "555046               False  \n",
      "272972               False  \n",
      "\n",
      "[5 rows x 10656 columns]\n"
     ]
    }
   ],
   "source": [
    "import pandas as pd\n",
    "\n",
    "cat_columns = ['click', 'cat1', 'cat2', 'cat3', 'cat4', 'cat5', 'cat6', 'cat7', 'cat8', 'cat9', 'campaign' ]\n",
    "\n",
    "\n",
    "new_cols = [col for col in cat_columns if col in dataset.columns]\n",
    "\n",
    "\n",
    "if new_cols:\n",
    "    dataset = pd.get_dummies(dataset, columns=new_cols, drop_first=True)\n",
    "\n",
    "\n",
    "print(dataset.head())"
   ]
  },
  {
   "cell_type": "code",
   "execution_count": 6,
   "id": "0a7b9593-c000-4eca-9475-4d1f4383be57",
   "metadata": {},
   "outputs": [],
   "source": [
    "y = dataset['attribution']  \n",
    "X = dataset.drop(columns=['attribution', 'timestamp', 'uid', 'conversion', 'conversion_timestamp', 'conversion_id'])"
   ]
  },
  {
   "cell_type": "code",
   "execution_count": 7,
   "id": "6858b4a4-41cc-4680-98e5-1869f6311f14",
   "metadata": {},
   "outputs": [],
   "source": [
    "from sklearn.model_selection import train_test_split\n",
    "from sklearn.linear_model import LogisticRegression\n",
    "from sklearn.metrics import accuracy_score            \n",
    "from sklearn.metrics import mean_squared_error   \n",
    "from sklearn.metrics import classification_report, accuracy_score"
   ]
  },
  {
   "cell_type": "code",
   "execution_count": 8,
   "id": "4f715b8f-5e24-401a-8af8-8e53bf710ccc",
   "metadata": {},
   "outputs": [
    {
     "name": "stdout",
     "output_type": "stream",
     "text": [
      "Accuracy: 0.98\n",
      "              precision    recall  f1-score   support\n",
      "\n",
      "           0       0.98      0.99      0.99     20395\n",
      "           1       0.58      0.37      0.45       577\n",
      "\n",
      "    accuracy                           0.98     20972\n",
      "   macro avg       0.78      0.68      0.72     20972\n",
      "weighted avg       0.97      0.98      0.97     20972\n",
      "\n"
     ]
    }
   ],
   "source": [
    "X_train, X_test, y_train, y_test = train_test_split(X, y, test_size=0.2, random_state=42)\n",
    "model = LogisticRegression(max_iter=1000, solver='liblinear')\n",
    "model.fit(X_train, y_train)\n",
    "y_pred = model.predict(X_test)\n",
    "accuracy = accuracy_score(y_test, y_pred)\n",
    "print(f'Accuracy: {accuracy:.2f}')\n",
    "print(classification_report(y_test, y_pred))"
   ]
  },
  {
   "cell_type": "code",
   "execution_count": 9,
   "id": "8eaac9a5-f49d-4adc-8e3a-a63e3526b53d",
   "metadata": {},
   "outputs": [
    {
     "name": "stdout",
     "output_type": "stream",
     "text": [
      "Coefficients: [[ 3.26665830e-01  3.30367048e-01 -7.79880034e-05 ... -5.23727189e-05\n",
      "  -1.82350332e-04 -2.46604116e-03]]\n",
      "Intercept: [-0.32983587]\n",
      "                       Coefficient\n",
      "click_pos                 0.326666\n",
      "click_nb                  0.330367\n",
      "cost                     -0.000078\n",
      "cpo                      -0.063697\n",
      "time_since_last_click    -0.000003\n",
      "...                            ...\n",
      "campaign_32398755        -0.000698\n",
      "campaign_32398758        -0.000176\n",
      "campaign_32405311        -0.000052\n",
      "campaign_32452108        -0.000182\n",
      "campaign_32452111        -0.002466\n",
      "\n",
      "[10650 rows x 1 columns]\n"
     ]
    }
   ],
   "source": [
    "print(\"Coefficients:\", model.coef_)\n",
    "print(\"Intercept:\", model.intercept_)\n",
    "\n",
    "\n",
    "feature_names = X.columns  \n",
    "coefficients = pd.DataFrame(model.coef_.flatten(), index=feature_names, columns=['Coefficient'])\n",
    "print(coefficients)"
   ]
  }
 ],
 "metadata": {
  "kernelspec": {
   "display_name": "Python 3",
   "language": "python",
   "name": "python3"
  },
  "language_info": {
   "codemirror_mode": {
    "name": "ipython",
    "version": 3
   },
   "file_extension": ".py",
   "mimetype": "text/x-python",
   "name": "python",
   "nbconvert_exporter": "python",
   "pygments_lexer": "ipython3",
   "version": "3.10.9"
  }
 },
 "nbformat": 4,
 "nbformat_minor": 5
}
