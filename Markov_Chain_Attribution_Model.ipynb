{
  "nbformat": 4,
  "nbformat_minor": 0,
  "metadata": {
    "colab": {
      "provenance": []
    },
    "kernelspec": {
      "name": "python3",
      "display_name": "Python 3"
    },
    "language_info": {
      "name": "python"
    }
  },
  "cells": [
    {
      "cell_type": "code",
      "execution_count": 1,
      "metadata": {
        "id": "z1qSuRST97A-"
      },
      "outputs": [],
      "source": [
        "import os\n",
        "import numpy as np\n",
        "import pandas as pd"
      ]
    },
    {
      "cell_type": "code",
      "source": [
        "os.chdir('/content/drive/MyDrive/BADM550/')\n",
        "dataset_path = 'criteo_attribution_dataset/criteo_attribution_dataset.tsv.gz'"
      ],
      "metadata": {
        "id": "W4ywHfoS-AYI"
      },
      "execution_count": 2,
      "outputs": []
    },
    {
      "cell_type": "code",
      "source": [
        "DEBUG_SAMPLE = 0.8"
      ],
      "metadata": {
        "id": "2FMonpC_-Y7W"
      },
      "execution_count": 3,
      "outputs": []
    },
    {
      "cell_type": "code",
      "source": [
        "def get_sampled_dataset(debug_sample=0.7):\n",
        "# Get a dataset in which we sample on user ids to ensure we keep the entire histories\n",
        "  df = pd.read_csv(dataset_path, sep='\\t', compression=\"gzip\")\n",
        "  uid_and_salt = df['uid'].astype(str) + 'hash_salt_for_sampling'\n",
        "  hashed_uid_and_salt = pd.util.hash_pandas_object(uid_and_salt, index=False)\n",
        "  random_column_based_on_uid = hashed_uid_and_salt / np.iinfo(np.uint64).max\n",
        "  return df[random_column_based_on_uid < debug_sample]\n",
        "\n",
        "df_criteo = get_sampled_dataset(DEBUG_SAMPLE)\n",
        "df_criteo.shape"
      ],
      "metadata": {
        "id": "RGjaMjsP-f22",
        "colab": {
          "base_uri": "https://localhost:8080/"
        },
        "outputId": "4e23afdc-ecee-496c-a825-780a9c073b8b"
      },
      "execution_count": 4,
      "outputs": [
        {
          "output_type": "execute_result",
          "data": {
            "text/plain": [
              "(13170080, 22)"
            ]
          },
          "metadata": {},
          "execution_count": 4
        }
      ]
    },
    {
      "cell_type": "code",
      "source": [
        "df_criteo.head()"
      ],
      "metadata": {
        "colab": {
          "base_uri": "https://localhost:8080/",
          "height": 256
        },
        "id": "37Pk2z1cEg9c",
        "outputId": "3d87398a-ec0a-411c-b4bd-c3886f5860c3"
      },
      "execution_count": 5,
      "outputs": [
        {
          "output_type": "execute_result",
          "data": {
            "text/plain": [
              "   timestamp       uid  campaign  conversion  conversion_timestamp  \\\n",
              "0          0  20073966  22589171           0                    -1   \n",
              "2          2  28474333  18975823           0                    -1   \n",
              "3          3   7306395  29427842           1               1449193   \n",
              "4          3  25357769  13365547           0                    -1   \n",
              "5          4     93907  17686799           0                    -1   \n",
              "\n",
              "   conversion_id  attribution  click  click_pos  click_nb  ...  \\\n",
              "0             -1            0      0         -1        -1  ...   \n",
              "2             -1            0      0         -1        -1  ...   \n",
              "3        3063962            0      1          0         7  ...   \n",
              "4             -1            0      0         -1        -1  ...   \n",
              "5             -1            0      1         -1        -1  ...   \n",
              "\n",
              "   time_since_last_click      cat1      cat2      cat3      cat4      cat5  \\\n",
              "0                     -1   5824233   9312274   3490278  29196072  11409686   \n",
              "2                   8879    138937   9312274  10769841  29196072   5824237   \n",
              "3                     -1  28928366  26597095  12435261  23549932   5824237   \n",
              "4                     -1    138937  26597094  31616034  29196072  11409684   \n",
              "5                 262565  30763035   9068207   9107790  29196072  32440044   \n",
              "\n",
              "       cat6      cat7      cat8      cat9  \n",
              "0   1973606  25162884  29196072  29196072  \n",
              "2    138937   1795451  29196072  15351056  \n",
              "3   1973606   9180723  29841067  29196072  \n",
              "4  26597096   4480345  29196072  29196072  \n",
              "5   1973606   2687461  29841067  21091108  \n",
              "\n",
              "[5 rows x 22 columns]"
            ],
            "text/html": [
              "\n",
              "  <div id=\"df-8c344295-a6d2-4c52-8390-5cfad08daab7\" class=\"colab-df-container\">\n",
              "    <div>\n",
              "<style scoped>\n",
              "    .dataframe tbody tr th:only-of-type {\n",
              "        vertical-align: middle;\n",
              "    }\n",
              "\n",
              "    .dataframe tbody tr th {\n",
              "        vertical-align: top;\n",
              "    }\n",
              "\n",
              "    .dataframe thead th {\n",
              "        text-align: right;\n",
              "    }\n",
              "</style>\n",
              "<table border=\"1\" class=\"dataframe\">\n",
              "  <thead>\n",
              "    <tr style=\"text-align: right;\">\n",
              "      <th></th>\n",
              "      <th>timestamp</th>\n",
              "      <th>uid</th>\n",
              "      <th>campaign</th>\n",
              "      <th>conversion</th>\n",
              "      <th>conversion_timestamp</th>\n",
              "      <th>conversion_id</th>\n",
              "      <th>attribution</th>\n",
              "      <th>click</th>\n",
              "      <th>click_pos</th>\n",
              "      <th>click_nb</th>\n",
              "      <th>...</th>\n",
              "      <th>time_since_last_click</th>\n",
              "      <th>cat1</th>\n",
              "      <th>cat2</th>\n",
              "      <th>cat3</th>\n",
              "      <th>cat4</th>\n",
              "      <th>cat5</th>\n",
              "      <th>cat6</th>\n",
              "      <th>cat7</th>\n",
              "      <th>cat8</th>\n",
              "      <th>cat9</th>\n",
              "    </tr>\n",
              "  </thead>\n",
              "  <tbody>\n",
              "    <tr>\n",
              "      <th>0</th>\n",
              "      <td>0</td>\n",
              "      <td>20073966</td>\n",
              "      <td>22589171</td>\n",
              "      <td>0</td>\n",
              "      <td>-1</td>\n",
              "      <td>-1</td>\n",
              "      <td>0</td>\n",
              "      <td>0</td>\n",
              "      <td>-1</td>\n",
              "      <td>-1</td>\n",
              "      <td>...</td>\n",
              "      <td>-1</td>\n",
              "      <td>5824233</td>\n",
              "      <td>9312274</td>\n",
              "      <td>3490278</td>\n",
              "      <td>29196072</td>\n",
              "      <td>11409686</td>\n",
              "      <td>1973606</td>\n",
              "      <td>25162884</td>\n",
              "      <td>29196072</td>\n",
              "      <td>29196072</td>\n",
              "    </tr>\n",
              "    <tr>\n",
              "      <th>2</th>\n",
              "      <td>2</td>\n",
              "      <td>28474333</td>\n",
              "      <td>18975823</td>\n",
              "      <td>0</td>\n",
              "      <td>-1</td>\n",
              "      <td>-1</td>\n",
              "      <td>0</td>\n",
              "      <td>0</td>\n",
              "      <td>-1</td>\n",
              "      <td>-1</td>\n",
              "      <td>...</td>\n",
              "      <td>8879</td>\n",
              "      <td>138937</td>\n",
              "      <td>9312274</td>\n",
              "      <td>10769841</td>\n",
              "      <td>29196072</td>\n",
              "      <td>5824237</td>\n",
              "      <td>138937</td>\n",
              "      <td>1795451</td>\n",
              "      <td>29196072</td>\n",
              "      <td>15351056</td>\n",
              "    </tr>\n",
              "    <tr>\n",
              "      <th>3</th>\n",
              "      <td>3</td>\n",
              "      <td>7306395</td>\n",
              "      <td>29427842</td>\n",
              "      <td>1</td>\n",
              "      <td>1449193</td>\n",
              "      <td>3063962</td>\n",
              "      <td>0</td>\n",
              "      <td>1</td>\n",
              "      <td>0</td>\n",
              "      <td>7</td>\n",
              "      <td>...</td>\n",
              "      <td>-1</td>\n",
              "      <td>28928366</td>\n",
              "      <td>26597095</td>\n",
              "      <td>12435261</td>\n",
              "      <td>23549932</td>\n",
              "      <td>5824237</td>\n",
              "      <td>1973606</td>\n",
              "      <td>9180723</td>\n",
              "      <td>29841067</td>\n",
              "      <td>29196072</td>\n",
              "    </tr>\n",
              "    <tr>\n",
              "      <th>4</th>\n",
              "      <td>3</td>\n",
              "      <td>25357769</td>\n",
              "      <td>13365547</td>\n",
              "      <td>0</td>\n",
              "      <td>-1</td>\n",
              "      <td>-1</td>\n",
              "      <td>0</td>\n",
              "      <td>0</td>\n",
              "      <td>-1</td>\n",
              "      <td>-1</td>\n",
              "      <td>...</td>\n",
              "      <td>-1</td>\n",
              "      <td>138937</td>\n",
              "      <td>26597094</td>\n",
              "      <td>31616034</td>\n",
              "      <td>29196072</td>\n",
              "      <td>11409684</td>\n",
              "      <td>26597096</td>\n",
              "      <td>4480345</td>\n",
              "      <td>29196072</td>\n",
              "      <td>29196072</td>\n",
              "    </tr>\n",
              "    <tr>\n",
              "      <th>5</th>\n",
              "      <td>4</td>\n",
              "      <td>93907</td>\n",
              "      <td>17686799</td>\n",
              "      <td>0</td>\n",
              "      <td>-1</td>\n",
              "      <td>-1</td>\n",
              "      <td>0</td>\n",
              "      <td>1</td>\n",
              "      <td>-1</td>\n",
              "      <td>-1</td>\n",
              "      <td>...</td>\n",
              "      <td>262565</td>\n",
              "      <td>30763035</td>\n",
              "      <td>9068207</td>\n",
              "      <td>9107790</td>\n",
              "      <td>29196072</td>\n",
              "      <td>32440044</td>\n",
              "      <td>1973606</td>\n",
              "      <td>2687461</td>\n",
              "      <td>29841067</td>\n",
              "      <td>21091108</td>\n",
              "    </tr>\n",
              "  </tbody>\n",
              "</table>\n",
              "<p>5 rows × 22 columns</p>\n",
              "</div>\n",
              "    <div class=\"colab-df-buttons\">\n",
              "\n",
              "  <div class=\"colab-df-container\">\n",
              "    <button class=\"colab-df-convert\" onclick=\"convertToInteractive('df-8c344295-a6d2-4c52-8390-5cfad08daab7')\"\n",
              "            title=\"Convert this dataframe to an interactive table.\"\n",
              "            style=\"display:none;\">\n",
              "\n",
              "  <svg xmlns=\"http://www.w3.org/2000/svg\" height=\"24px\" viewBox=\"0 -960 960 960\">\n",
              "    <path d=\"M120-120v-720h720v720H120Zm60-500h600v-160H180v160Zm220 220h160v-160H400v160Zm0 220h160v-160H400v160ZM180-400h160v-160H180v160Zm440 0h160v-160H620v160ZM180-180h160v-160H180v160Zm440 0h160v-160H620v160Z\"/>\n",
              "  </svg>\n",
              "    </button>\n",
              "\n",
              "  <style>\n",
              "    .colab-df-container {\n",
              "      display:flex;\n",
              "      gap: 12px;\n",
              "    }\n",
              "\n",
              "    .colab-df-convert {\n",
              "      background-color: #E8F0FE;\n",
              "      border: none;\n",
              "      border-radius: 50%;\n",
              "      cursor: pointer;\n",
              "      display: none;\n",
              "      fill: #1967D2;\n",
              "      height: 32px;\n",
              "      padding: 0 0 0 0;\n",
              "      width: 32px;\n",
              "    }\n",
              "\n",
              "    .colab-df-convert:hover {\n",
              "      background-color: #E2EBFA;\n",
              "      box-shadow: 0px 1px 2px rgba(60, 64, 67, 0.3), 0px 1px 3px 1px rgba(60, 64, 67, 0.15);\n",
              "      fill: #174EA6;\n",
              "    }\n",
              "\n",
              "    .colab-df-buttons div {\n",
              "      margin-bottom: 4px;\n",
              "    }\n",
              "\n",
              "    [theme=dark] .colab-df-convert {\n",
              "      background-color: #3B4455;\n",
              "      fill: #D2E3FC;\n",
              "    }\n",
              "\n",
              "    [theme=dark] .colab-df-convert:hover {\n",
              "      background-color: #434B5C;\n",
              "      box-shadow: 0px 1px 3px 1px rgba(0, 0, 0, 0.15);\n",
              "      filter: drop-shadow(0px 1px 2px rgba(0, 0, 0, 0.3));\n",
              "      fill: #FFFFFF;\n",
              "    }\n",
              "  </style>\n",
              "\n",
              "    <script>\n",
              "      const buttonEl =\n",
              "        document.querySelector('#df-8c344295-a6d2-4c52-8390-5cfad08daab7 button.colab-df-convert');\n",
              "      buttonEl.style.display =\n",
              "        google.colab.kernel.accessAllowed ? 'block' : 'none';\n",
              "\n",
              "      async function convertToInteractive(key) {\n",
              "        const element = document.querySelector('#df-8c344295-a6d2-4c52-8390-5cfad08daab7');\n",
              "        const dataTable =\n",
              "          await google.colab.kernel.invokeFunction('convertToInteractive',\n",
              "                                                    [key], {});\n",
              "        if (!dataTable) return;\n",
              "\n",
              "        const docLinkHtml = 'Like what you see? Visit the ' +\n",
              "          '<a target=\"_blank\" href=https://colab.research.google.com/notebooks/data_table.ipynb>data table notebook</a>'\n",
              "          + ' to learn more about interactive tables.';\n",
              "        element.innerHTML = '';\n",
              "        dataTable['output_type'] = 'display_data';\n",
              "        await google.colab.output.renderOutput(dataTable, element);\n",
              "        const docLink = document.createElement('div');\n",
              "        docLink.innerHTML = docLinkHtml;\n",
              "        element.appendChild(docLink);\n",
              "      }\n",
              "    </script>\n",
              "  </div>\n",
              "\n",
              "\n",
              "<div id=\"df-726f5374-49df-42d5-bf1a-ffdcd32eb84e\">\n",
              "  <button class=\"colab-df-quickchart\" onclick=\"quickchart('df-726f5374-49df-42d5-bf1a-ffdcd32eb84e')\"\n",
              "            title=\"Suggest charts\"\n",
              "            style=\"display:none;\">\n",
              "\n",
              "<svg xmlns=\"http://www.w3.org/2000/svg\" height=\"24px\"viewBox=\"0 0 24 24\"\n",
              "     width=\"24px\">\n",
              "    <g>\n",
              "        <path d=\"M19 3H5c-1.1 0-2 .9-2 2v14c0 1.1.9 2 2 2h14c1.1 0 2-.9 2-2V5c0-1.1-.9-2-2-2zM9 17H7v-7h2v7zm4 0h-2V7h2v10zm4 0h-2v-4h2v4z\"/>\n",
              "    </g>\n",
              "</svg>\n",
              "  </button>\n",
              "\n",
              "<style>\n",
              "  .colab-df-quickchart {\n",
              "      --bg-color: #E8F0FE;\n",
              "      --fill-color: #1967D2;\n",
              "      --hover-bg-color: #E2EBFA;\n",
              "      --hover-fill-color: #174EA6;\n",
              "      --disabled-fill-color: #AAA;\n",
              "      --disabled-bg-color: #DDD;\n",
              "  }\n",
              "\n",
              "  [theme=dark] .colab-df-quickchart {\n",
              "      --bg-color: #3B4455;\n",
              "      --fill-color: #D2E3FC;\n",
              "      --hover-bg-color: #434B5C;\n",
              "      --hover-fill-color: #FFFFFF;\n",
              "      --disabled-bg-color: #3B4455;\n",
              "      --disabled-fill-color: #666;\n",
              "  }\n",
              "\n",
              "  .colab-df-quickchart {\n",
              "    background-color: var(--bg-color);\n",
              "    border: none;\n",
              "    border-radius: 50%;\n",
              "    cursor: pointer;\n",
              "    display: none;\n",
              "    fill: var(--fill-color);\n",
              "    height: 32px;\n",
              "    padding: 0;\n",
              "    width: 32px;\n",
              "  }\n",
              "\n",
              "  .colab-df-quickchart:hover {\n",
              "    background-color: var(--hover-bg-color);\n",
              "    box-shadow: 0 1px 2px rgba(60, 64, 67, 0.3), 0 1px 3px 1px rgba(60, 64, 67, 0.15);\n",
              "    fill: var(--button-hover-fill-color);\n",
              "  }\n",
              "\n",
              "  .colab-df-quickchart-complete:disabled,\n",
              "  .colab-df-quickchart-complete:disabled:hover {\n",
              "    background-color: var(--disabled-bg-color);\n",
              "    fill: var(--disabled-fill-color);\n",
              "    box-shadow: none;\n",
              "  }\n",
              "\n",
              "  .colab-df-spinner {\n",
              "    border: 2px solid var(--fill-color);\n",
              "    border-color: transparent;\n",
              "    border-bottom-color: var(--fill-color);\n",
              "    animation:\n",
              "      spin 1s steps(1) infinite;\n",
              "  }\n",
              "\n",
              "  @keyframes spin {\n",
              "    0% {\n",
              "      border-color: transparent;\n",
              "      border-bottom-color: var(--fill-color);\n",
              "      border-left-color: var(--fill-color);\n",
              "    }\n",
              "    20% {\n",
              "      border-color: transparent;\n",
              "      border-left-color: var(--fill-color);\n",
              "      border-top-color: var(--fill-color);\n",
              "    }\n",
              "    30% {\n",
              "      border-color: transparent;\n",
              "      border-left-color: var(--fill-color);\n",
              "      border-top-color: var(--fill-color);\n",
              "      border-right-color: var(--fill-color);\n",
              "    }\n",
              "    40% {\n",
              "      border-color: transparent;\n",
              "      border-right-color: var(--fill-color);\n",
              "      border-top-color: var(--fill-color);\n",
              "    }\n",
              "    60% {\n",
              "      border-color: transparent;\n",
              "      border-right-color: var(--fill-color);\n",
              "    }\n",
              "    80% {\n",
              "      border-color: transparent;\n",
              "      border-right-color: var(--fill-color);\n",
              "      border-bottom-color: var(--fill-color);\n",
              "    }\n",
              "    90% {\n",
              "      border-color: transparent;\n",
              "      border-bottom-color: var(--fill-color);\n",
              "    }\n",
              "  }\n",
              "</style>\n",
              "\n",
              "  <script>\n",
              "    async function quickchart(key) {\n",
              "      const quickchartButtonEl =\n",
              "        document.querySelector('#' + key + ' button');\n",
              "      quickchartButtonEl.disabled = true;  // To prevent multiple clicks.\n",
              "      quickchartButtonEl.classList.add('colab-df-spinner');\n",
              "      try {\n",
              "        const charts = await google.colab.kernel.invokeFunction(\n",
              "            'suggestCharts', [key], {});\n",
              "      } catch (error) {\n",
              "        console.error('Error during call to suggestCharts:', error);\n",
              "      }\n",
              "      quickchartButtonEl.classList.remove('colab-df-spinner');\n",
              "      quickchartButtonEl.classList.add('colab-df-quickchart-complete');\n",
              "    }\n",
              "    (() => {\n",
              "      let quickchartButtonEl =\n",
              "        document.querySelector('#df-726f5374-49df-42d5-bf1a-ffdcd32eb84e button');\n",
              "      quickchartButtonEl.style.display =\n",
              "        google.colab.kernel.accessAllowed ? 'block' : 'none';\n",
              "    })();\n",
              "  </script>\n",
              "</div>\n",
              "\n",
              "    </div>\n",
              "  </div>\n"
            ],
            "application/vnd.google.colaboratory.intrinsic+json": {
              "type": "dataframe",
              "variable_name": "df_criteo"
            }
          },
          "metadata": {},
          "execution_count": 5
        }
      ]
    },
    {
      "cell_type": "code",
      "source": [
        "num_distinct_campaigns = df_criteo['campaign'].nunique()\n",
        "print(\"Number of distinct campaigns:\", num_distinct_campaigns)"
      ],
      "metadata": {
        "colab": {
          "base_uri": "https://localhost:8080/"
        },
        "id": "fO61ozE6Eleo",
        "outputId": "96c7fa54-408f-48f2-a564-f992ed12b4e6"
      },
      "execution_count": 6,
      "outputs": [
        {
          "output_type": "stream",
          "name": "stdout",
          "text": [
            "Number of distinct campaigns: 675\n"
          ]
        }
      ]
    },
    {
      "cell_type": "code",
      "source": [
        "from sklearn.preprocessing import MinMaxScaler\n",
        "#Creating a JourneylD column from UserlD and ConversionlD\n",
        "def add_derived_columns(df):\n",
        "  df_ext = df.copy()\n",
        "  df_ext ['jid'] = df_ext['uid'].map(str) +'_'+ df_ext['conversion_id'].map(str)\n",
        "  min_max_scaler = MinMaxScaler()\n",
        "  for cname in ('timestamp','time_since_last_click'):\n",
        "    x = df_ext[cname].values.reshape(-1,1)\n",
        "    df_ext[cname + '_norm'] = min_max_scaler.fit_transform(x)\n",
        "  return df_ext\n",
        "\n",
        "df_criteo = add_derived_columns(df_criteo)"
      ],
      "metadata": {
        "id": "0E6OTDnZEsvB"
      },
      "execution_count": 7,
      "outputs": []
    },
    {
      "cell_type": "code",
      "source": [
        "np.random.seed(42)\n",
        "n_campaigns = 400\n",
        "\n",
        "def sample_campaigns(df,n_campaigns):\n",
        "  campaigns = np.random.choice(df_criteo['campaign'].unique(),n_campaigns,replace=False)\n",
        "  return df[df['campaign'].isin(campaigns)]\n",
        "\n",
        "#Calling the sample_campaigns function with n_campaigns=400\n",
        "df_criteo = sample_campaigns(df_criteo,n_campaigns)\n",
        "df_criteo.shape"
      ],
      "metadata": {
        "colab": {
          "base_uri": "https://localhost:8080/"
        },
        "id": "pywz3g4UNsp-",
        "outputId": "5082a0e6-74fc-4d00-800f-7678475629ae"
      },
      "execution_count": 8,
      "outputs": [
        {
          "output_type": "execute_result",
          "data": {
            "text/plain": [
              "(8456216, 25)"
            ]
          },
          "metadata": {},
          "execution_count": 8
        }
      ]
    },
    {
      "cell_type": "code",
      "source": [
        "def filter_journeys_by_length(df,min_touchpoints) :\n",
        "  if min_touchpoints <= 1:\n",
        "    return df\n",
        "  else :\n",
        "    grouped = df.groupby(['jid'])['uid'].count().reset_index(name=\"count\")\n",
        "    return df[df['jid'].isin(grouped[grouped['count'] >= min_touchpoints] ['jid'].values)]\n",
        "\n",
        "#Calling the filter journeys_by_length function\n",
        "df_criteo = filter_journeys_by_length(df_criteo, 2)\n",
        "#Displaying the structure of the datasetd\n",
        "\n",
        "def balance_conversions(df):\n",
        "  df_minority = df [df.conversion == 1]\n",
        "  df_majority = df [df.conversion == 0]\n",
        "  df_majority_jids = np.array_split(df_majority['jid'].unique(), 100 * df_majority.shape[0]/df_minority.shape[0])\n",
        "  df_majority_sampled = pd.DataFrame(data=None, columns=df. columns)\n",
        "  for jid_chunk in df_majority_jids:\n",
        "    df_majority_sampled = pd. concat([df_majority_sampled, df_majority[df_majority.jid.isin(jid_chunk)]])\n",
        "    if df_majority_sampled.shape[0] > df_minority.shape [0]:\n",
        "      break\n",
        "    return pd.concat([df_majority_sampled,df_minority]).sample(frac=1).reset_index(drop=True)\n",
        "\n",
        "df_criteo = balance_conversions(df_criteo)"
      ],
      "metadata": {
        "colab": {
          "base_uri": "https://localhost:8080/"
        },
        "id": "MqXIEcFrORZL",
        "outputId": "9b8785ae-2661-4b43-9364-6e5413792147"
      },
      "execution_count": 9,
      "outputs": [
        {
          "output_type": "stream",
          "name": "stderr",
          "text": [
            "<ipython-input-9-1a9e44ce47fb>:18: FutureWarning: The behavior of DataFrame concatenation with empty or all-NA entries is deprecated. In a future version, this will no longer exclude empty or all-NA columns when determining the result dtypes. To retain the old behavior, exclude the relevant entries before the concat operation.\n",
            "  df_majority_sampled = pd. concat([df_majority_sampled, df_majority[df_majority.jid.isin(jid_chunk)]])\n"
          ]
        }
      ]
    },
    {
      "cell_type": "code",
      "source": [
        "df_criteo.shape"
      ],
      "metadata": {
        "colab": {
          "base_uri": "https://localhost:8080/"
        },
        "id": "z9WhoNoMPKz2",
        "outputId": "8db10e06-ed86-4775-e8c1-49d9b6618c26"
      },
      "execution_count": 10,
      "outputs": [
        {
          "output_type": "execute_result",
          "data": {
            "text/plain": [
              "(286552, 25)"
            ]
          },
          "metadata": {},
          "execution_count": 10
        }
      ]
    },
    {
      "cell_type": "code",
      "source": [
        "def map_one_hot(df, column_names, result_column_name):\n",
        "  mapper = {}\n",
        "  for i, col_name in enumerate(column_names):\n",
        "    for val in df[col_name].unique():\n",
        "      mapper[str(val) + str(i)] = len(mapper)\n",
        "\n",
        "  df_ext = df.copy()\n",
        "\n",
        "  def one_hot (values):\n",
        "    v = np.zeros(len(mapper))\n",
        "    for i, val in enumerate(values):\n",
        "      v[mapper[str(val) + str(i)]] = 1\n",
        "    return v\n",
        "\n",
        "  df_ext[result_column_name] = df_ext[column_names].values.tolist()\n",
        "  df_ext[result_column_name] = df_ext[result_column_name].map(one_hot)\n",
        "  return df_ext\n",
        "\n",
        "df_criteo = map_one_hot(df_criteo, ['cat1','cat2','cat3','cat4','cat5','cat6','cat8'], 'cats')\n",
        "df_criteo.cats[0]"
      ],
      "metadata": {
        "colab": {
          "base_uri": "https://localhost:8080/"
        },
        "id": "lpQZ2hMwPVUs",
        "outputId": "6a5fc691-010a-42c3-9594-9bdb9aac434a"
      },
      "execution_count": 11,
      "outputs": [
        {
          "output_type": "execute_result",
          "data": {
            "text/plain": [
              "array([1., 0., 0., ..., 0., 0., 0.])"
            ]
          },
          "metadata": {},
          "execution_count": 11
        }
      ]
    },
    {
      "cell_type": "code",
      "source": [
        "df_criteo = map_one_hot(df_criteo,['campaign'],'campaigns').sort_values(by=['timestamp_norm'])\n",
        "df_criteo.shape"
      ],
      "metadata": {
        "colab": {
          "base_uri": "https://localhost:8080/"
        },
        "id": "BI_QJ__dP5uG",
        "outputId": "0d777bbd-4258-4c5a-8146-6f3f0160fb69"
      },
      "execution_count": 13,
      "outputs": [
        {
          "output_type": "execute_result",
          "data": {
            "text/plain": [
              "(286552, 27)"
            ]
          },
          "metadata": {},
          "execution_count": 13
        }
      ]
    },
    {
      "cell_type": "code",
      "source": [
        "import matplotlib.pyplot as plt\n",
        "def journey_length_histogram(df):\n",
        "  counts = df.groupby(['jid'])['uid'].count().reset_index(name=\"count\").groupby(['count']).count()\n",
        "  return counts.index, counts. values / df.shape[0]\n",
        "\n",
        "hist_x,hist_y= journey_length_histogram(df_criteo)\n",
        "\n",
        "plt.plot (range(len(hist_x)),hist_y,label = 'all journeys')\n",
        "plt.yscale('log')\n",
        "plt.xlim (0, 80)\n",
        "plt.xlabel('Journey length(number of toucpoints)')\n",
        "plt.ylabel('Fraction of journeys')\n",
        "plt.show()"
      ],
      "metadata": {
        "colab": {
          "base_uri": "https://localhost:8080/",
          "height": 449
        },
        "id": "UUWhkoxCP-Pv",
        "outputId": "d8dd6cb4-17d9-4a77-8fdb-1e1ec836b61c"
      },
      "execution_count": 15,
      "outputs": [
        {
          "output_type": "display_data",
          "data": {
            "text/plain": [
              "<Figure size 640x480 with 1 Axes>"
            ],
            "image/png": "[encoded data removed]"
          },
          "metadata": {}
        }
      ]
    },
    {
      "cell_type": "markdown",
      "source": [
        "# Markov Chain Attribution model"
      ],
      "metadata": {
        "id": "HoqcQhUqRteB"
      }
    },
    {
      "cell_type": "code",
      "source": [
        "import numpy as np\n",
        "import pandas as pd\n",
        "\n",
        "def create_transition_matrix(df, column='campaign'):\n",
        "    unique_campaigns = df[column].unique()\n",
        "    n_campaigns = len(unique_campaigns)\n",
        "    transition_matrix = pd.DataFrame(np.zeros((n_campaigns, n_campaigns)), index=unique_campaigns, columns=unique_campaigns)\n",
        "\n",
        "    # 计算每个转移的频率\n",
        "    for i in range(len(df) - 1):\n",
        "        current_campaign = df.iloc[i][column]\n",
        "        next_campaign = df.iloc[i + 1][column]\n",
        "        transition_matrix.at[current_campaign, next_campaign] += 1\n",
        "\n",
        "    # 将频率转换为概率\n",
        "    transition_matrix = transition_matrix.div(transition_matrix.sum(axis=1), axis=0)\n",
        "    return transition_matrix\n",
        "\n",
        "transition_matrix = create_transition_matrix(df_criteo)"
      ],
      "metadata": {
        "id": "mimeTJJlQM_b"
      },
      "execution_count": 17,
      "outputs": []
    },
    {
      "cell_type": "code",
      "source": [
        "def calculate_attribution_scores(transition_matrix):\n",
        "    # 初始假设每个广告活动的归因得分相等\n",
        "    attribution_scores = np.ones(transition_matrix.shape[0])\n",
        "\n",
        "    # 通过多次迭代传播归因得分来近似它们的真实贡献\n",
        "    for _ in range(1000):\n",
        "        attribution_scores = transition_matrix.T.dot(attribution_scores)\n",
        "        attribution_scores /= attribution_scores.sum()  # 归一化保证总和为1\n",
        "\n",
        "    return attribution_scores\n",
        "\n",
        "attribution_scores = calculate_attribution_scores(transition_matrix)\n",
        "print(attribution_scores)"
      ],
      "metadata": {
        "colab": {
          "base_uri": "https://localhost:8080/"
        },
        "id": "yWSGc2HLTZGs",
        "outputId": "8b037420-cc95-40c7-87bb-3e09871aec13"
      },
      "execution_count": 18,
      "outputs": [
        {
          "output_type": "stream",
          "name": "stdout",
          "text": [
            "13365547    0.011499\n",
            "29427842    0.026672\n",
            "31772643    0.023427\n",
            "27491436    0.000115\n",
            "16184517    0.010005\n",
            "              ...   \n",
            "6886825     0.000108\n",
            "21443097    0.000021\n",
            "15959620    0.000157\n",
            "20445163    0.000115\n",
            "16920603    0.000101\n",
            "Length: 398, dtype: float64\n"
          ]
        }
      ]
    },
    {
      "cell_type": "code",
      "source": [
        "import matplotlib.pyplot as plt\n",
        "\n",
        "# 假设 attribution_scores 是一个包含归因得分的 Pandas Series，索引为广告活动的唯一标识符\n",
        "def plot_attribution_scores(attribution_scores, top_n=50):\n",
        "    # 选择顶部 N 个广告活动进行展示\n",
        "    top_campaigns = attribution_scores.sort_values(ascending=False).head(top_n)\n",
        "\n",
        "    # 创建图形和轴对象\n",
        "    fig, ax = plt.subplots(figsize=(15, 4))\n",
        "\n",
        "    # 绘制条形图\n",
        "    ax.bar(top_campaigns.index.astype(str), top_campaigns.values, label='Markov Chain Attribution')\n",
        "\n",
        "    # 设置图形的标签和标题\n",
        "    ax.set_ylabel('Attribution Score')\n",
        "    ax.set_xlabel('Campaign ID')\n",
        "    ax.set_title('Top Campaign Attribution Scores')\n",
        "    ax.legend(loc='upper right')\n",
        "\n",
        "    # 改善标签显示\n",
        "    plt.xticks(rotation=45, ha='right')\n",
        "\n",
        "    # 显示图形\n",
        "    plt.show()\n",
        "\n",
        "# 假设我们已经有了计算得到的 attribution_scores\n",
        "plot_attribution_scores(attribution_scores)"
      ],
      "metadata": {
        "colab": {
          "base_uri": "https://localhost:8080/",
          "height": 253
        },
        "id": "oVFPbQVvTceh",
        "outputId": "a9a78056-0ff9-4738-dda9-2231efaa3968"
      },
      "execution_count": 20,
      "outputs": [
        {
          "output_type": "display_data",
          "data": {
            "text/plain": [
              "<Figure size 1500x400 with 1 Axes>"
            ],
            "image/png": "[encoded data removed]"
          },
          "metadata": {}
        }
      ]
    }
  ]
}