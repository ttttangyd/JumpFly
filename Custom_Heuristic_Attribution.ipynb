{
  "nbformat": 4,
  "nbformat_minor": 0,
  "metadata": {
    "colab": {
      "provenance": []
    },
    "kernelspec": {
      "name": "python3",
      "display_name": "Python 3"
    },
    "language_info": {
      "name": "python"
    }
  },
  "cells": [
    {
      "cell_type": "code",
      "execution_count": 3,
      "metadata": {
        "id": "cUCwpLhVzLbk"
      },
      "outputs": [],
      "source": [
        "import pandas as pd\n",
        "import numpy as np"
      ]
    },
    {
      "cell_type": "code",
      "source": [
        "dataset_1 = pd.read_excel(\"/content/Dataset_1.xlsx\")"
      ],
      "metadata": {
        "id": "__0QMsjczhS9"
      },
      "execution_count": 4,
      "outputs": []
    },
    {
      "cell_type": "code",
      "source": [
        "dataset_2 = pd.read_excel(\"/content/Dataset_2.xlsx\", header=None, names=['timestamp', 'uid', 'campaign', 'conversion', 'conversion_timestamp',\n",
        "       'conversion_id', 'attribution', 'click', 'click_pos', 'click_nb',\n",
        "       'cost', 'cpo', 'time_since_last_click', 'cat1', 'cat2', 'cat3', 'cat4',\n",
        "       'cat5', 'cat6', 'cat7', 'cat8', 'cat9'])"
      ],
      "metadata": {
        "id": "-32qfHqrBkMn"
      },
      "execution_count": 13,
      "outputs": []
    },
    {
      "cell_type": "code",
      "source": [
        "data = pd.concat([dataset_1, dataset_2], axis=0, ignore_index=True)"
      ],
      "metadata": {
        "id": "Kw6sj-in0jC-"
      },
      "execution_count": 14,
      "outputs": []
    },
    {
      "cell_type": "code",
      "source": [
        "print(data.shape)"
      ],
      "metadata": {
        "colab": {
          "base_uri": "https://localhost:8080/",
          "height": 0
        },
        "id": "L0rJaMKX72Oz",
        "outputId": "44f6391a-fa03-441a-e7e4-b62df1048a68"
      },
      "execution_count": 15,
      "outputs": [
        {
          "output_type": "stream",
          "name": "stdout",
          "text": [
            "(1048577, 22)\n"
          ]
        }
      ]
    },
    {
      "cell_type": "code",
      "source": [
        "print(data.head())"
      ],
      "metadata": {
        "colab": {
          "base_uri": "https://localhost:8080/",
          "height": 0
        },
        "id": "pBYeGVbB1VCY",
        "outputId": "153c1f06-b4df-4c32-cadd-52423764ca75"
      },
      "execution_count": 16,
      "outputs": [
        {
          "output_type": "stream",
          "name": "stdout",
          "text": [
            "   timestamp       uid  campaign  conversion  conversion_timestamp  \\\n",
            "0          0  20073966  22589171           0                    -1   \n",
            "1          2  24607497    884761           0                    -1   \n",
            "2          2  28474333  18975823           0                    -1   \n",
            "3          3   7306395  29427842           1               1449193   \n",
            "4          3  25357769  13365547           0                    -1   \n",
            "\n",
            "   conversion_id  attribution  click  click_pos  click_nb  ...  \\\n",
            "0             -1            0      0         -1        -1  ...   \n",
            "1             -1            0      0         -1        -1  ...   \n",
            "2             -1            0      0         -1        -1  ...   \n",
            "3        3063962            0      1          0         7  ...   \n",
            "4             -1            0      0         -1        -1  ...   \n",
            "\n",
            "   time_since_last_click      cat1      cat2      cat3      cat4      cat5  \\\n",
            "0                     -1   5824233   9312274   3490278  29196072  11409686   \n",
            "1                 423858  30763035   9312274  14584482  29196072  11409686   \n",
            "2                   8879    138937   9312274  10769841  29196072   5824237   \n",
            "3                     -1  28928366  26597095  12435261  23549932   5824237   \n",
            "4                     -1    138937  26597094  31616034  29196072  11409684   \n",
            "\n",
            "       cat6      cat7      cat8      cat9  \n",
            "0   1973606  25162884  29196072  29196072  \n",
            "1   1973606  22644417   9312274  21091111  \n",
            "2    138937   1795451  29196072  15351056  \n",
            "3   1973606   9180723  29841067  29196072  \n",
            "4  26597096   4480345  29196072  29196072  \n",
            "\n",
            "[5 rows x 22 columns]\n"
          ]
        }
      ]
    },
    {
      "cell_type": "code",
      "source": [
        "# Weight settings:\n",
        "# - weight_first_click: First click weight set to 0.5, as it indicates initial interest.\n",
        "# - weight_position_based: Position-based click weight set to 0.3, representing the supportive role of intermediate clicks in conversion.\n",
        "weight_first_click = 0.5\n",
        "weight_position_based = 0.3"
      ],
      "metadata": {
        "id": "s22efhq_1em-"
      },
      "execution_count": 17,
      "outputs": []
    },
    {
      "cell_type": "code",
      "source": [
        "data['attribution_score'] = 0"
      ],
      "metadata": {
        "id": "kwVXruFk1i1j"
      },
      "execution_count": 18,
      "outputs": []
    },
    {
      "cell_type": "code",
      "source": [
        "def calculate_attribution_score(row):\n",
        "    if row['conversion'] == 1 and row['attribution'] == 1:\n",
        "        if row['click_pos'] == 0:\n",
        "            score = weight_first_click\n",
        "        else:\n",
        "            score = weight_position_based\n",
        "        if row['click_nb'] > 1:\n",
        "        # - Log adjustment for multiple clicks to prevent repeated clicks from overly influencing the total score.\n",
        "            click_weight = 1 + np.log(row['click_nb'] + 1)\n",
        "            score *= click_weight\n",
        "    else:\n",
        "        score = 0\n",
        "    return score\n"
      ],
      "metadata": {
        "id": "6qgtyKo81jyC"
      },
      "execution_count": 19,
      "outputs": []
    },
    {
      "cell_type": "code",
      "source": [
        "data['attribution_score'] = data.apply(calculate_attribution_score, axis=1)"
      ],
      "metadata": {
        "id": "2z3h3M5L6euj"
      },
      "execution_count": 20,
      "outputs": []
    },
    {
      "cell_type": "code",
      "source": [
        "campaign_attribution = data.groupby('campaign')['attribution_score'].sum().reset_index()"
      ],
      "metadata": {
        "id": "pogiBdaT6lVF"
      },
      "execution_count": 21,
      "outputs": []
    },
    {
      "cell_type": "code",
      "source": [
        "print(\"Campaign Attribution Scores:\\n\", campaign_attribution)"
      ],
      "metadata": {
        "colab": {
          "base_uri": "https://localhost:8080/",
          "height": 0
        },
        "id": "_3QZNN0M6oQw",
        "outputId": "e04244bd-7a77-468e-ba95-afde14866d11"
      },
      "execution_count": 22,
      "outputs": [
        {
          "output_type": "stream",
          "name": "stdout",
          "text": [
            "Campaign Attribution Scores:\n",
            "      campaign  attribution_score\n",
            "0       73322           3.124924\n",
            "1       73325          18.694427\n",
            "2       73327          22.180575\n",
            "3       73328          41.160089\n",
            "4       83677          12.283952\n",
            "..        ...                ...\n",
            "665  32398755          25.904842\n",
            "666  32398758           5.152916\n",
            "667  32405311           8.629959\n",
            "668  32452108           0.629584\n",
            "669  32452111         181.852533\n",
            "\n",
            "[670 rows x 2 columns]\n"
          ]
        }
      ]
    },
    {
      "cell_type": "code",
      "source": [
        "top_campaigns = campaign_attribution.sort_values(by='attribution_score', ascending=False)\n",
        "top_10_campaigns = top_campaigns.head(10)"
      ],
      "metadata": {
        "id": "cGu4apoNJAqj"
      },
      "execution_count": 23,
      "outputs": []
    },
    {
      "cell_type": "code",
      "source": [
        "print(\"Top 10 Campaigns with Highest Attribution Scores:\\n\", top_10_campaigns)"
      ],
      "metadata": {
        "colab": {
          "base_uri": "https://localhost:8080/",
          "height": 0
        },
        "id": "XnY0s1y2JFC4",
        "outputId": "43cb34d7-10f4-4e59-ebab-df5a034590d6"
      },
      "execution_count": 24,
      "outputs": [
        {
          "output_type": "stream",
          "name": "stdout",
          "text": [
            "Top 10 Campaigns with Highest Attribution Scores:\n",
            "      campaign  attribution_score\n",
            "663  32368244        1440.634893\n",
            "215  10341182        1396.134344\n",
            "324  15184511         756.864271\n",
            "635  30801593         707.852212\n",
            "195   9100689         557.284109\n",
            "652  31772643         517.403906\n",
            "327  15398570         516.261906\n",
            "199   9100693         510.778679\n",
            "111   5544859         431.086580\n",
            "570  28351001         403.503309\n"
          ]
        }
      ]
    },
    {
      "cell_type": "markdown",
      "source": [
        "\n",
        "**Heuristic Model with Fixed Weights:**\n",
        "This model applies fixed weights for different click types, assigning higher weight to the first click (0.5) and a lower weight (0.3) to intermediate clicks, with a logarithmic adjustment for repeated clicks. This approach gives a balanced attribution but may not capture the influence of time since the last click effectively."
      ],
      "metadata": {
        "id": "6FJwL1b8nPRz"
      }
    },
    {
      "cell_type": "code",
      "source": [
        "weight_first_click = 0.5\n",
        "weight_position_based = 0.3\n",
        "decay_factor = 0.9"
      ],
      "metadata": {
        "id": "pKqRbQb_E30o"
      },
      "execution_count": 35,
      "outputs": []
    },
    {
      "cell_type": "code",
      "source": [
        "def calculate_attribution_score(row):\n",
        "    score = 0\n",
        "    if row['conversion'] == 1 and row['attribution'] == 1:\n",
        "        # First-click weight\n",
        "        if row['click_pos'] == 0:\n",
        "            score = weight_first_click\n",
        "        # Position-based weight with recency decay\n",
        "        else:\n",
        "            time_decay = decay_factor ** row['time_since_last_click']\n",
        "            score = weight_position_based * time_decay\n",
        "\n",
        "        # Adjust for multiple clicks using logarithmic scale\n",
        "        if row['click_nb'] > 1:\n",
        "            click_weight = 1 + np.log(row['click_nb'] + 1)\n",
        "            score *= click_weight\n",
        "    return score"
      ],
      "metadata": {
        "id": "L0U4L0EVscm1"
      },
      "execution_count": 30,
      "outputs": []
    },
    {
      "cell_type": "code",
      "source": [
        "data['attribution_score'] = data.apply(calculate_attribution_score, axis=1)\n",
        "campaign_attribution = data.groupby('campaign')['attribution_score'].sum().reset_index()"
      ],
      "metadata": {
        "id": "dlVNxVgbsf7Z"
      },
      "execution_count": 31,
      "outputs": []
    },
    {
      "cell_type": "code",
      "source": [
        "print(\"Campaign Attribution Scores:\\n\", campaign_attribution)"
      ],
      "metadata": {
        "colab": {
          "base_uri": "https://localhost:8080/",
          "height": 0
        },
        "id": "5NDT1IsWsgjg",
        "outputId": "7a6689a4-82b8-4b78-d22b-f38dc78b1e07"
      },
      "execution_count": 32,
      "outputs": [
        {
          "output_type": "stream",
          "name": "stdout",
          "text": [
            "Campaign Attribution Scores:\n",
            "      campaign  attribution_score\n",
            "0       73322           2.337447\n",
            "1       73325           7.443314\n",
            "2       73327          16.698961\n",
            "3       73328          25.600000\n",
            "4       83677           4.572207\n",
            "..        ...                ...\n",
            "665  32398755           7.330333\n",
            "666  32398758           1.972955\n",
            "667  32405311           1.395880\n",
            "668  32452108           0.000000\n",
            "669  32452111          53.655232\n",
            "\n",
            "[670 rows x 2 columns]\n"
          ]
        }
      ]
    },
    {
      "cell_type": "code",
      "source": [
        "top_campaigns = campaign_attribution.sort_values(by='attribution_score', ascending=False)\n",
        "top_10_campaigns = top_campaigns.head(10)"
      ],
      "metadata": {
        "id": "7A8HbzSctJjk"
      },
      "execution_count": 33,
      "outputs": []
    },
    {
      "cell_type": "code",
      "source": [
        "print(\"Top 10 Campaigns with Highest Attribution Scores:\\n\", top_10_campaigns)"
      ],
      "metadata": {
        "colab": {
          "base_uri": "https://localhost:8080/",
          "height": 0
        },
        "id": "mmAOHatTtayE",
        "outputId": "3bc75ef5-af51-4ea3-c93e-25eb2f10d4e1"
      },
      "execution_count": 34,
      "outputs": [
        {
          "output_type": "stream",
          "name": "stdout",
          "text": [
            "Top 10 Campaigns with Highest Attribution Scores:\n",
            "      campaign  attribution_score\n",
            "663  32368244         721.313025\n",
            "215  10341182         542.498704\n",
            "324  15184511         397.575627\n",
            "199   9100693         394.845035\n",
            "195   9100689         354.590956\n",
            "635  30801593         330.302034\n",
            "52    2869134         329.800506\n",
            "111   5544859         319.717840\n",
            "347  16184517         295.447390\n",
            "652  31772643         199.568130\n"
          ]
        }
      ]
    },
    {
      "cell_type": "markdown",
      "source": [
        "**Heuristic Model with Recency Decay:**\n",
        "In this version, a decay factor is applied to account for the time since the last click. This approach ensures that more recent interactions carry greater weight, which can better reflect real customer behavior patterns, particularly in campaigns with multiple or spread-out touchpoints."
      ],
      "metadata": {
        "id": "LJdJ4oSQDrCA"
      }
    },
    {
      "cell_type": "markdown",
      "source": [
        "The Heuristic Model with Recency Decay is likely to perform better in capturing realistic attribution, especially in complex journeys where recent actions are more impactful on conversions. It provides a more dynamic score that reflects the influence of timing, which is an essential factor in many customer journeys. However, if simplicity and interpretability are prioritized, the fixed-weight model may be preferred, as it’s easier to implement and understand.\n",
        "\n"
      ],
      "metadata": {
        "id": "S76qwYheDodT"
      }
    }
  ]
}